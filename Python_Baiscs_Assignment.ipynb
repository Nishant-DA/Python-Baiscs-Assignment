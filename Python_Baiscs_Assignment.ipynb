{
  "nbformat": 4,
  "nbformat_minor": 0,
  "metadata": {
    "colab": {
      "provenance": []
    },
    "kernelspec": {
      "name": "python3",
      "display_name": "Python 3"
    },
    "language_info": {
      "name": "python"
    }
  },
  "cells": [
    {
      "cell_type": "code",
      "source": [
        "# 1. Explain the key features of Python that make it a popular choice for programming.\n",
        "\n",
        "# --> Easy to use and learn.| Clean and readable. | Support of various libraries. | Has large community. | Works on various platforms like windows, macOS, Linux."
      ],
      "metadata": {
        "id": "Pmtl2xx5dPpT"
      },
      "execution_count": null,
      "outputs": []
    },
    {
      "cell_type": "code",
      "source": [
        "# 2. Describe the role of predefined keywords in Python and provide examples of how they are used in a program.\n",
        "\n",
        "# --> In python there are some preserved words for particular tasks are known as the predefined keywords. the few examples of this keywords are - if, else, elif, true, false, while, in, is, not, and, etc.\n",
        "\n",
        "#example\n",
        "age = 21\n",
        "if age > 18:\n",
        "  print (\"you can drink now\")\n",
        "else:\n",
        "  print (\"you are not eligible to drink\")"
      ],
      "metadata": {
        "colab": {
          "base_uri": "https://localhost:8080/"
        },
        "id": "DAgDRL1sbZos",
        "outputId": "ddc57b5b-af77-4d95-85c2-7ed2664bd1a1"
      },
      "execution_count": 7,
      "outputs": [
        {
          "output_type": "stream",
          "name": "stdout",
          "text": [
            "you can drink now\n"
          ]
        }
      ]
    },
    {
      "cell_type": "code",
      "source": [
        "# 3. Compare and contrast mutable and immutable objects in Python with examples.\n",
        "\n",
        "# --> The objects that can be changed after creation are called as mutable object. and the objects that cannot be changed after creation are called as immutable objects.\n",
        "\n",
        "# for example = mutable objects - list,\n",
        "# for example = immutable objects - int, tupples, float, string, etc\n",
        "\n",
        "# example of mutable objects\n",
        "my_list = [1, 3, 5]\n",
        "my_list[0] = 9\n",
        "print(my_list)\n",
        "\n",
        "# example of immutable objects\n",
        "my_tuple = (5, 3, 6)\n",
        "my_tuple[1] = 88\n",
        "print (my_tuple)\n"
      ],
      "metadata": {
        "colab": {
          "base_uri": "https://localhost:8080/",
          "height": 211
        },
        "id": "1I3fdYobdv6D",
        "outputId": "2c301ca1-0fd4-41cc-993b-557ca9c8566b"
      },
      "execution_count": 13,
      "outputs": [
        {
          "output_type": "stream",
          "name": "stdout",
          "text": [
            "[9, 3, 5]\n"
          ]
        },
        {
          "output_type": "error",
          "ename": "TypeError",
          "evalue": "'tuple' object does not support item assignment",
          "traceback": [
            "\u001b[0;31m---------------------------------------------------------------------------\u001b[0m",
            "\u001b[0;31mTypeError\u001b[0m                                 Traceback (most recent call last)",
            "\u001b[0;32m<ipython-input-13-45c4185f2b63>\u001b[0m in \u001b[0;36m<cell line: 0>\u001b[0;34m()\u001b[0m\n\u001b[1;32m     13\u001b[0m \u001b[0;31m# example of immutable objects\u001b[0m\u001b[0;34m\u001b[0m\u001b[0;34m\u001b[0m\u001b[0m\n\u001b[1;32m     14\u001b[0m \u001b[0mmy_tuple\u001b[0m \u001b[0;34m=\u001b[0m \u001b[0;34m(\u001b[0m\u001b[0;36m5\u001b[0m\u001b[0;34m,\u001b[0m \u001b[0;36m3\u001b[0m\u001b[0;34m,\u001b[0m \u001b[0;36m6\u001b[0m\u001b[0;34m)\u001b[0m\u001b[0;34m\u001b[0m\u001b[0;34m\u001b[0m\u001b[0m\n\u001b[0;32m---> 15\u001b[0;31m \u001b[0mmy_tuple\u001b[0m\u001b[0;34m[\u001b[0m\u001b[0;36m1\u001b[0m\u001b[0;34m]\u001b[0m \u001b[0;34m=\u001b[0m \u001b[0;36m88\u001b[0m\u001b[0;34m\u001b[0m\u001b[0;34m\u001b[0m\u001b[0m\n\u001b[0m\u001b[1;32m     16\u001b[0m \u001b[0mprint\u001b[0m \u001b[0;34m(\u001b[0m\u001b[0mmy_tuple\u001b[0m\u001b[0;34m)\u001b[0m\u001b[0;34m\u001b[0m\u001b[0;34m\u001b[0m\u001b[0m\n",
            "\u001b[0;31mTypeError\u001b[0m: 'tuple' object does not support item assignment"
          ]
        }
      ]
    },
    {
      "cell_type": "code",
      "source": [
        "# 4. Discuss the different types of operators in Python and provide examples of how they are used.\n",
        "\n",
        "# --> The list of operators in python with examples is as follows:\n",
        "#     Arithmetic operator - (+, -, %) - (a+b)\n",
        "#     Comparison operator - (>, <, >=, <=) - (a > b)\n",
        "#     Assignment operator - (=, +=, -=, /=) - (a = 5)\n",
        "#     Logical operotors   - (and, or, not) - (a > 2 and a < 5)\n",
        "#     Membershhip operator - (in, not in) - (\"a\" in \"android\")\n",
        "#     Identity operator - (is, is not) - (a is y)\n",
        "#     Bitwise operator - (&) - (>>, <<)"
      ],
      "metadata": {
        "id": "iTDFMn39mkFG"
      },
      "execution_count": null,
      "outputs": []
    },
    {
      "cell_type": "code",
      "source": [
        "# 5. Explain the concept of type casting in Python with examples.\n",
        "\n",
        "# --> The conversion one data type to another in python is known as type casting.\n",
        "\n",
        "# for example\n",
        "a = 5\n",
        "print (type(a))\n",
        "print (a)\n",
        "\n",
        "a = float(a)\n",
        "print (type(a))\n",
        "print (a)\n",
        "\n",
        "#in this example i converted class fron 'int' to 'float'"
      ],
      "metadata": {
        "colab": {
          "base_uri": "https://localhost:8080/"
        },
        "id": "V_uOMgmjpZzX",
        "outputId": "5800064d-b95f-4083-840b-0cfb3698630f"
      },
      "execution_count": 44,
      "outputs": [
        {
          "output_type": "stream",
          "name": "stdout",
          "text": [
            "<class 'int'>\n",
            "5\n",
            "<class 'float'>\n",
            "5.0\n"
          ]
        }
      ]
    },
    {
      "cell_type": "code",
      "source": [
        "# 6. How do conditional statements work in Python? Illustrate with examples.\n",
        "\n",
        "# --> Conditional statements are used to execute code based on conditions.\n",
        "\n",
        "# Example:\n",
        "a = 56\n",
        "if a <= 80:\n",
        "  print (\"you are right\")\n",
        "elif a > 40:\n",
        "  print (\"this one is also right\")\n",
        "else:\n",
        "  print (\"all above statements are false\")"
      ],
      "metadata": {
        "colab": {
          "base_uri": "https://localhost:8080/"
        },
        "id": "Bvu7yxyzqz4F",
        "outputId": "09901299-9fbb-4f34-d718-0e18f9807abd"
      },
      "execution_count": 47,
      "outputs": [
        {
          "output_type": "stream",
          "name": "stdout",
          "text": [
            "you are right\n"
          ]
        }
      ]
    },
    {
      "cell_type": "code",
      "source": [
        "# 7. Describe the different types of loops in Python and their use cases with examples.\n",
        "\n",
        "# --> for loop and while loop. also continue and break.\n",
        "\n",
        "# for loop example:\n",
        "for i in range(1, 6):\n",
        "    print(i)\n",
        "\n",
        "# while loop example:\n",
        "ace = 5\n",
        "while ace < 8:\n",
        "  print(\"ace\")\n",
        "  ace = ace + 1\n",
        "else:\n",
        "  print(\"you were wrong\")\n",
        "\n",
        "# Example of break:\n",
        "ace = 6\n",
        "while ace < 9:\n",
        "  print(\"ace\")\n",
        "  ace = ace + 1\n",
        "  if ace == 8:\n",
        "    break\n",
        "else:\n",
        "  print(\"you are right\")\n",
        "\n",
        "# Example of continue:\n",
        "ace = 6\n",
        "while ace < 9:\n",
        "  print(\"ace\")\n",
        "  ace = ace + 1\n",
        "  if ace == 8:\n",
        "    continue\n",
        "else:\n",
        "  print(\"you are right\")"
      ],
      "metadata": {
        "colab": {
          "base_uri": "https://localhost:8080/"
        },
        "id": "yV3itGYIuWze",
        "outputId": "599e52fc-687b-4225-d8d3-5992da7d7962"
      },
      "execution_count": 22,
      "outputs": [
        {
          "output_type": "stream",
          "name": "stdout",
          "text": [
            "1\n",
            "2\n",
            "3\n",
            "4\n",
            "5\n",
            "ace\n",
            "ace\n",
            "ace\n",
            "you were wrong\n",
            "ace\n",
            "ace\n",
            "ace\n",
            "ace\n",
            "ace\n",
            "you are right\n"
          ]
        }
      ]
    },
    {
      "cell_type": "code",
      "source": [],
      "metadata": {
        "id": "jO1WE1Vp7Af8"
      },
      "execution_count": null,
      "outputs": []
    }
  ]
}